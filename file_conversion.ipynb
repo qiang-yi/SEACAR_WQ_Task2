{
 "cells": [
  {
   "cell_type": "code",
   "execution_count": 3,
   "id": "4731ee65",
   "metadata": {},
   "outputs": [
    {
     "name": "stderr",
     "output_type": "stream",
     "text": [
      "C:\\Users\\qiangy\\AppData\\Local\\Temp\\ipykernel_28452\\1967672203.py:7: DtypeWarning: Columns (17,18,19,21) have mixed types. Specify dtype option on import or set low_memory=False.\n",
      "  df = pd.read_csv(file_path, sep='|')\n"
     ]
    }
   ],
   "source": [
    "import pandas as pd\n",
    "\n",
    "# Define the path to your pipe-separated file\n",
    "file_path = '../GIS_Data/Combined_WQ_WC_NUT_Total_Nitrogen-2024-Jan-10.txt'  # Change this to the path of your file\n",
    "\n",
    "# Read the pipe-separated file\n",
    "df = pd.read_csv(file_path, sep='|')\n",
    "\n",
    "# Define the path for the output CSV file\n",
    "csv_file_path = '../GIS_Data/output_file.csv'  # Change this to your desired output path\n",
    "\n",
    "# Save the DataFrame as a CSV file\n",
    "df.to_csv(csv_file_path, index=False)"
   ]
  }
 ],
 "metadata": {
  "kernelspec": {
   "display_name": "Python 3 (ipykernel)",
   "language": "python",
   "name": "python3"
  },
  "language_info": {
   "codemirror_mode": {
    "name": "ipython",
    "version": 3
   },
   "file_extension": ".py",
   "mimetype": "text/x-python",
   "name": "python",
   "nbconvert_exporter": "python",
   "pygments_lexer": "ipython3",
   "version": "3.9.18"
  }
 },
 "nbformat": 4,
 "nbformat_minor": 5
}
