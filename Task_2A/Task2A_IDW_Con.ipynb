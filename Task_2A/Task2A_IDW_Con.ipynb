{
 "cells": [
  {
   "cell_type": "markdown",
   "id": "0cec05b4",
   "metadata": {},
   "source": [
    "# Cross Validation for IDW Interpolation \n",
    "## Task 2A (IDW for continuous data only)\n",
    "\n",
    "This document includes Python codes that conduct cross validation (CV) for Inverse Distance Weighting (IDW) Interpolation on water quality parameters, including 6 water quality parameters in arcpy environment:\n",
    "- Dissolved oxygen (DO_mgl)\n",
    "- Salinity (Sal_ppt)\n",
    "- Turbidity (Turb_ntu)\n",
    "- Temperature (T_c)\n",
    "- Secchi (Secc_m)\n",
    "- Total Nitrogen (TN_mgl) \n",
    "\n",
    "The analysis is conducted in the separate water bodies:\n",
    "- Guana Tolomato Matanzas (GTM)\n",
    "- Estero Bay (EB)\n",
    "- Charlotte Harbor (CH)\n",
    "- Biscayne Bay (BB)\n",
    "- Big Bend Seagrasses (BBS)\n",
    "\n",
    "**Tasks:**  \n",
    "\n",
    "- **Task 2A Calculate the RMSE and Mean Error (ME) for IDW results using both continuous and discrete data**\n",
    "\n",
    "- Task 2B Calculate the RMSE and Mean Error (ME) for IDW results using continuous data.\n",
    "\n",
    "Time periods one year before and after storm event for Task 2A tests (seasons).\n",
    "<br>\n",
    "<div style=\"text-align: left;\">\n",
    "    <img src=\"../misc/TimePeriods.png\" style=\"display: block; margin-left: 0; margin-right: auto; width: 600px;\"/>\n",
    "</div>\n",
    "\n",
    "Summary of IDK and RK Accuracy Assessments.\n",
    "<br>\n",
    "<div style=\"text-align: left;\">\n",
    "    <img src=\"../misc/Table3.png\" style=\"display: block; margin-left: 0; margin-right: auto; width: 600px;\"/>\n",
    "</div>\n",
    "\n",
    "**Contents:**\n",
    "* [1. Data Preprocess](#reg_preprocessing)\n",
    "    * [1.1 Subsetting Dataset](#reg_subset)\n",
    "    * [1.2 Preview Dataset](#reg_preview)\n",
    "    * [1.3 Fill Unique ID](#reg_id)\n",
    "* [2. Create Shapefile](#reg_create_shp)\n",
    "* [3. Cross Validation for IDW](#reg_cv_idw)\n",
    "\n",
    "# 1. Loading packages"
   ]
  },
  {
   "cell_type": "code",
   "execution_count": 1,
   "id": "d91541e3",
   "metadata": {},
   "outputs": [],
   "source": [
    "import pandas as pd\n",
    "import numpy  as np\n",
    "import arcpy\n",
    "from arcpy.sa import *\n",
    "import os, time, math, importlib, sys\n",
    "path = r'E:\\Projects\\SEACAR_WQ_2024\\git\\misc'\n",
    "sys.path.insert(0, path)\n",
    "import idw_rk\n",
    "# !install conda install conda-forge::pyproj\n",
    "import pyproj,csv\n",
    "\n",
    "importlib.reload(idw_rk)\n",
    "\n",
    "import warnings\n",
    "warnings.filterwarnings('ignore')\n",
    "\n",
    "# define scratch folder to avoid overwritting from parallel threats\n",
    "arcpy.env.scratchWorkspace = r\"E:\\Projects\\SEACAR_WQ_2024\\scratch/IDW_con\""
   ]
  },
  {
   "cell_type": "markdown",
   "id": "e01c6b56",
   "metadata": {},
   "source": [
    "# 1. Data Preprocessing <a class=\"anchor\" id=\"reg_preprocessing\"></a>\n",
    "\n",
    "## 1.1 Load csv files"
   ]
  },
  {
   "cell_type": "code",
   "execution_count": 2,
   "id": "4c61f8c6",
   "metadata": {},
   "outputs": [],
   "source": [
    "gis_path = r'E:\\Projects\\SEACAR_WQ_2024/GIS_Data/'\n",
    "dfCon = pd.read_csv(gis_path + 'OEAT_Continuous_WQ-2024-Feb-21.csv', low_memory=False)"
   ]
  },
  {
   "cell_type": "markdown",
   "id": "76ee0f25",
   "metadata": {},
   "source": [
    "## 1.2 Subsetting Data <a class=\"anchor\" id=\"reg_subset\"></a>\n",
    "\n",
    "### Selecting data from 9 am to 17 pm (daytime)"
   ]
  },
  {
   "cell_type": "code",
   "execution_count": 3,
   "id": "30c8bf75",
   "metadata": {},
   "outputs": [],
   "source": [
    "# Convert string to datetime\n",
    "dfCon['SampleDate'] = pd.to_datetime(dfCon['SampleDate'], format='%Y-%m-%d %H:%M:%S.%f')\n",
    "\n",
    "\n",
    "# Include date from 9:00 am to 17:00 pm\n",
    "start_time = '08:00'\n",
    "end_time = '18:00'\n",
    "\n",
    "dfConTime = dfCon[dfCon['SampleDate'].dt.time.between(pd.to_datetime(start_time).time(), pd.to_datetime(end_time).time())]"
   ]
  },
  {
   "cell_type": "markdown",
   "id": "ac8c44ad",
   "metadata": {},
   "source": [
    "## 1.3 Calculating average values at unique observation points"
   ]
  },
  {
   "cell_type": "code",
   "execution_count": 4,
   "id": "769327db",
   "metadata": {},
   "outputs": [
    {
     "data": {
      "text/html": [
       "<div>\n",
       "<style scoped>\n",
       "    .dataframe tbody tr th:only-of-type {\n",
       "        vertical-align: middle;\n",
       "    }\n",
       "\n",
       "    .dataframe tbody tr th {\n",
       "        vertical-align: top;\n",
       "    }\n",
       "\n",
       "    .dataframe thead th {\n",
       "        text-align: right;\n",
       "    }\n",
       "</style>\n",
       "<table border=\"1\" class=\"dataframe\">\n",
       "  <thead>\n",
       "    <tr style=\"text-align: right;\">\n",
       "      <th></th>\n",
       "      <th>WaterBody</th>\n",
       "      <th>ParameterName</th>\n",
       "      <th>ParameterUnits</th>\n",
       "      <th>Year</th>\n",
       "      <th>Season</th>\n",
       "      <th>Latitude_DD</th>\n",
       "      <th>Longitude_DD</th>\n",
       "      <th>WbodyAcronym</th>\n",
       "      <th>ResultValue</th>\n",
       "    </tr>\n",
       "  </thead>\n",
       "  <tbody>\n",
       "    <tr>\n",
       "      <th>0</th>\n",
       "      <td>Big Bend Seagrasses</td>\n",
       "      <td>Dissolved Oxygen</td>\n",
       "      <td>mg/L</td>\n",
       "      <td>2015</td>\n",
       "      <td>Fall</td>\n",
       "      <td>29.287817</td>\n",
       "      <td>-83.166083</td>\n",
       "      <td>BBS</td>\n",
       "      <td>5.796613</td>\n",
       "    </tr>\n",
       "    <tr>\n",
       "      <th>1</th>\n",
       "      <td>Big Bend Seagrasses</td>\n",
       "      <td>Dissolved Oxygen</td>\n",
       "      <td>mg/L</td>\n",
       "      <td>2015</td>\n",
       "      <td>Fall</td>\n",
       "      <td>29.813933</td>\n",
       "      <td>-83.628917</td>\n",
       "      <td>BBS</td>\n",
       "      <td>6.597323</td>\n",
       "    </tr>\n",
       "    <tr>\n",
       "      <th>2</th>\n",
       "      <td>Big Bend Seagrasses</td>\n",
       "      <td>Dissolved Oxygen</td>\n",
       "      <td>mg/L</td>\n",
       "      <td>2015</td>\n",
       "      <td>Spring</td>\n",
       "      <td>29.101817</td>\n",
       "      <td>-83.076467</td>\n",
       "      <td>BBS</td>\n",
       "      <td>7.309026</td>\n",
       "    </tr>\n",
       "    <tr>\n",
       "      <th>3</th>\n",
       "      <td>Big Bend Seagrasses</td>\n",
       "      <td>Dissolved Oxygen</td>\n",
       "      <td>mg/L</td>\n",
       "      <td>2015</td>\n",
       "      <td>Spring</td>\n",
       "      <td>29.287817</td>\n",
       "      <td>-83.166083</td>\n",
       "      <td>BBS</td>\n",
       "      <td>6.433010</td>\n",
       "    </tr>\n",
       "    <tr>\n",
       "      <th>4</th>\n",
       "      <td>Big Bend Seagrasses</td>\n",
       "      <td>Dissolved Oxygen</td>\n",
       "      <td>mg/L</td>\n",
       "      <td>2015</td>\n",
       "      <td>Spring</td>\n",
       "      <td>29.813933</td>\n",
       "      <td>-83.628917</td>\n",
       "      <td>BBS</td>\n",
       "      <td>7.499969</td>\n",
       "    </tr>\n",
       "    <tr>\n",
       "      <th>...</th>\n",
       "      <td>...</td>\n",
       "      <td>...</td>\n",
       "      <td>...</td>\n",
       "      <td>...</td>\n",
       "      <td>...</td>\n",
       "      <td>...</td>\n",
       "      <td>...</td>\n",
       "      <td>...</td>\n",
       "      <td>...</td>\n",
       "    </tr>\n",
       "    <tr>\n",
       "      <th>1820</th>\n",
       "      <td>Guana Tolomato Matanzas</td>\n",
       "      <td>Water Temperature</td>\n",
       "      <td>Degrees C</td>\n",
       "      <td>2022</td>\n",
       "      <td>Spring</td>\n",
       "      <td>30.050857</td>\n",
       "      <td>-81.367465</td>\n",
       "      <td>GTM</td>\n",
       "      <td>23.312820</td>\n",
       "    </tr>\n",
       "    <tr>\n",
       "      <th>1821</th>\n",
       "      <td>Guana Tolomato Matanzas</td>\n",
       "      <td>Water Temperature</td>\n",
       "      <td>Degrees C</td>\n",
       "      <td>2022</td>\n",
       "      <td>Winter</td>\n",
       "      <td>29.667071</td>\n",
       "      <td>-81.257403</td>\n",
       "      <td>GTM</td>\n",
       "      <td>19.372195</td>\n",
       "    </tr>\n",
       "    <tr>\n",
       "      <th>1822</th>\n",
       "      <td>Guana Tolomato Matanzas</td>\n",
       "      <td>Water Temperature</td>\n",
       "      <td>Degrees C</td>\n",
       "      <td>2022</td>\n",
       "      <td>Winter</td>\n",
       "      <td>29.737041</td>\n",
       "      <td>-81.245953</td>\n",
       "      <td>GTM</td>\n",
       "      <td>19.837073</td>\n",
       "    </tr>\n",
       "    <tr>\n",
       "      <th>1823</th>\n",
       "      <td>Guana Tolomato Matanzas</td>\n",
       "      <td>Water Temperature</td>\n",
       "      <td>Degrees C</td>\n",
       "      <td>2022</td>\n",
       "      <td>Winter</td>\n",
       "      <td>29.868851</td>\n",
       "      <td>-81.307428</td>\n",
       "      <td>GTM</td>\n",
       "      <td>20.105854</td>\n",
       "    </tr>\n",
       "    <tr>\n",
       "      <th>1824</th>\n",
       "      <td>Guana Tolomato Matanzas</td>\n",
       "      <td>Water Temperature</td>\n",
       "      <td>Degrees C</td>\n",
       "      <td>2022</td>\n",
       "      <td>Winter</td>\n",
       "      <td>30.050857</td>\n",
       "      <td>-81.367465</td>\n",
       "      <td>GTM</td>\n",
       "      <td>20.373171</td>\n",
       "    </tr>\n",
       "  </tbody>\n",
       "</table>\n",
       "<p>1825 rows × 9 columns</p>\n",
       "</div>"
      ],
      "text/plain": [
       "                    WaterBody      ParameterName ParameterUnits  Year  Season  \\\n",
       "0         Big Bend Seagrasses   Dissolved Oxygen           mg/L  2015    Fall   \n",
       "1         Big Bend Seagrasses   Dissolved Oxygen           mg/L  2015    Fall   \n",
       "2         Big Bend Seagrasses   Dissolved Oxygen           mg/L  2015  Spring   \n",
       "3         Big Bend Seagrasses   Dissolved Oxygen           mg/L  2015  Spring   \n",
       "4         Big Bend Seagrasses   Dissolved Oxygen           mg/L  2015  Spring   \n",
       "...                       ...                ...            ...   ...     ...   \n",
       "1820  Guana Tolomato Matanzas  Water Temperature      Degrees C  2022  Spring   \n",
       "1821  Guana Tolomato Matanzas  Water Temperature      Degrees C  2022  Winter   \n",
       "1822  Guana Tolomato Matanzas  Water Temperature      Degrees C  2022  Winter   \n",
       "1823  Guana Tolomato Matanzas  Water Temperature      Degrees C  2022  Winter   \n",
       "1824  Guana Tolomato Matanzas  Water Temperature      Degrees C  2022  Winter   \n",
       "\n",
       "      Latitude_DD  Longitude_DD WbodyAcronym  ResultValue  \n",
       "0       29.287817    -83.166083          BBS     5.796613  \n",
       "1       29.813933    -83.628917          BBS     6.597323  \n",
       "2       29.101817    -83.076467          BBS     7.309026  \n",
       "3       29.287817    -83.166083          BBS     6.433010  \n",
       "4       29.813933    -83.628917          BBS     7.499969  \n",
       "...           ...           ...          ...          ...  \n",
       "1820    30.050857    -81.367465          GTM    23.312820  \n",
       "1821    29.667071    -81.257403          GTM    19.372195  \n",
       "1822    29.737041    -81.245953          GTM    19.837073  \n",
       "1823    29.868851    -81.307428          GTM    20.105854  \n",
       "1824    30.050857    -81.367465          GTM    20.373171  \n",
       "\n",
       "[1825 rows x 9 columns]"
      ]
     },
     "execution_count": 4,
     "metadata": {},
     "output_type": "execute_result"
    }
   ],
   "source": [
    "dfCon_Mean = dfConTime.groupby(['WaterBody','ParameterName','ParameterUnits', 'Year','Season','Latitude_DD','Longitude_DD','WbodyAcronym'])[\"ResultValue\"].agg(\"mean\").reset_index()\n",
    "dfCon_Mean"
   ]
  },
  {
   "cell_type": "markdown",
   "id": "9398a3e1",
   "metadata": {},
   "source": [
    "## 1.4 Convert coordinate system to EPSG: 3086"
   ]
  },
  {
   "cell_type": "code",
   "execution_count": null,
   "id": "863709f0",
   "metadata": {},
   "outputs": [],
   "source": [
    "# Define the EPSG codes for source (EPSG:4326) and target (EPSG:3086) coordinate systems\n",
    "source_epsg = 'EPSG:4326'\n",
    "target_epsg = 'EPSG:3086'\n",
    "\n",
    "# Create a PyProj Transformer for the conversion\n",
    "transformer = pyproj.Transformer.from_crs(source_epsg, target_epsg, always_xy=True)\n",
    "\n",
    "# Define a function to apply the transformation to each row of the DataFrame\n",
    "def transform_coordinates(row):\n",
    "    x, y = transformer.transform(row['Longitude_DD'], row['Latitude_DD'])\n",
    "    return pd.Series({'x': x, 'y': y})\n",
    "\n",
    "# Apply the transformation function to the DataFrame and create new columns for the converted coordinates\n",
    "dfCon_Mean[['x', 'y']] = dfCon_Mean.apply(transform_coordinates, axis=1)"
   ]
  },
  {
   "cell_type": "markdown",
   "id": "93c74f88",
   "metadata": {},
   "source": [
    "## 2. Prepare for batch interpolation\n",
    "### 2.1 Preset abbreviation for waterbody and parameter name"
   ]
  },
  {
   "cell_type": "code",
   "execution_count": null,
   "id": "d58a1c29",
   "metadata": {},
   "outputs": [],
   "source": [
    "area_shortnames = {\n",
    "    'Guana Tolomato Matanzas': 'GTM',\n",
    "    'Estero Bay': 'EB',\n",
    "    'Charlotte Harbor': 'CH',\n",
    "    'Biscayne Bay': 'BB',\n",
    "    'Big Bend Seagrasses':'BBS'\n",
    "}\n",
    "\n",
    "param_shortnames = {\n",
    "    'Salinity': 'Sal_ppt',\n",
    "    'Total Nitrogen': 'TN_mgl',\n",
    "    'Dissolved Oxygen': 'DO_mgl',\n",
    "    'Turbidity':'Turb_ntu',\n",
    "    'Secchi Depth':'Secc_m',\n",
    "    'Water Temperature':'T_c'\n",
    "}"
   ]
  },
  {
   "cell_type": "markdown",
   "id": "887f0a4b",
   "metadata": {},
   "source": [
    "### 2.2 Define the barrier files"
   ]
  },
  {
   "cell_type": "code",
   "execution_count": null,
   "id": "10945835",
   "metadata": {},
   "outputs": [],
   "source": [
    "barrier_folder = os.path.join(gis_path, 'Barriers')\n",
    "barrier_folder\n",
    "\n",
    "barriers = []\n",
    "for file in os.listdir(barrier_folder):\n",
    "    if file.endswith(\".shp\"):\n",
    "        barriers.append(os.path.join(barrier_folder, file))\n",
    "\n",
    "for barrier in barriers:\n",
    "    print(barrier)"
   ]
  },
  {
   "cell_type": "markdown",
   "id": "fbb0f837",
   "metadata": {},
   "source": [
    "### 2.3 Define waterbody boundary for spatial extent and masking"
   ]
  },
  {
   "cell_type": "code",
   "execution_count": null,
   "id": "49543d8f",
   "metadata": {},
   "outputs": [],
   "source": [
    "waterbody_extent = os.path.join(gis_path, 'OEAT_Waterbody_Boundaries', 'OEAT_Waterbody_Boundary.shp')\n",
    "\n",
    "unique_waterbodies = []\n",
    "with arcpy.da.SearchCursor(waterbody_extent, ['WaterbodyA']) as cursor:\n",
    "    for row in cursor:\n",
    "        unique_waterbodies.append(row[0])\n",
    "\n",
    "print(\"Unique Waterbodies:\", unique_waterbodies)"
   ]
  },
  {
   "cell_type": "markdown",
   "id": "68e5c77f",
   "metadata": {},
   "source": [
    "### 2.4 Load the table of study periods,  parameters, and seasons"
   ]
  },
  {
   "cell_type": "code",
   "execution_count": null,
   "id": "3d0a0cf4",
   "metadata": {},
   "outputs": [],
   "source": [
    "seasons_con = pd.read_csv(gis_path + 'Seasons_con.csv', low_memory=False)"
   ]
  },
  {
   "cell_type": "markdown",
   "id": "38f40e2b",
   "metadata": {},
   "source": [
    "### 2.5 Define output folders### Define output folders"
   ]
  },
  {
   "cell_type": "code",
   "execution_count": null,
   "id": "e8193ef2",
   "metadata": {},
   "outputs": [],
   "source": [
    "shpCon_folder = gis_path + r\"shapefiles_Con\"\n",
    "idwCon_folder = gis_path + r\"idw_Con\"\n",
    "\n",
    "# Preview data\n",
    "dfCon_Mean"
   ]
  },
  {
   "cell_type": "markdown",
   "id": "46f31aa4",
   "metadata": {},
   "source": [
    "## 2.6 Fill NaN RowID with unique ID, IDW function needs unique ID <a class=\"anchor\" id=\"reg_id\"></a>"
   ]
  },
  {
   "cell_type": "code",
   "execution_count": null,
   "id": "b4dd73bf",
   "metadata": {},
   "outputs": [],
   "source": [
    "idw_rk.fill_nan_rowids(dfCon_Mean, 'RowID')\n",
    "dfCon_Mean"
   ]
  },
  {
   "cell_type": "markdown",
   "id": "208fa1a4",
   "metadata": {},
   "source": [
    "# 3. Create Shapefiles <a class=\"anchor\" id=\"reg_create_shp\"></a># 2. Create Shapefile <a class=\"anchor\" id=\"reg_create_shp\"></a>"
   ]
  },
  {
   "cell_type": "code",
   "execution_count": null,
   "id": "2db25f4c",
   "metadata": {},
   "outputs": [],
   "source": [
    "# Empty the shapefile folder\n",
    "idw_rk.delete_all_files(shpCon_folder)\n",
    "\n",
    "# Merge interested with latitude and longitude columns\n",
    "seasons_con_coord = idw_rk.merge_with_lat_long(seasons_con, dfCon_Mean)\n",
    "seasons_con_coord"
   ]
  },
  {
   "cell_type": "code",
   "execution_count": null,
   "id": "f0e854cc",
   "metadata": {
    "scrolled": true
   },
   "outputs": [],
   "source": [
    "idw_rk.create_shp_season(seasons_con_coord, shpCon_folder)"
   ]
  },
  {
   "cell_type": "markdown",
   "id": "cdf247be",
   "metadata": {},
   "source": [
    "# 3. Cross Validation for IDW <a class=\"anchor\" id=\"reg_cv_idw\"></a>"
   ]
  },
  {
   "cell_type": "code",
   "execution_count": null,
   "id": "859890d0",
   "metadata": {},
   "outputs": [],
   "source": [
    "# Empty the shapefile folder\n",
    "idw_rk.delete_all_files(idwCon_folder)"
   ]
  },
  {
   "cell_type": "code",
   "execution_count": null,
   "id": "cdbe2362",
   "metadata": {},
   "outputs": [],
   "source": [
    "# Select a section of table to process\n",
    "seasons_slct = seasons_all.iloc[122:]"
   ]
  },
  {
   "cell_type": "code",
   "execution_count": null,
   "id": "a7eb8a3d",
   "metadata": {
    "scrolled": false
   },
   "outputs": [],
   "source": [
    "# If the number of data points is less than 3，skipping calculate IDW\n",
    "idw_rk.idw_interpolation(seasons_con, shpCon_folder, idwCon_folder, waterbody_extent, barrier_folder)"
   ]
  }
 ],
 "metadata": {
  "kernelspec": {
   "display_name": "Python 3 (ipykernel)",
   "language": "python",
   "name": "python3"
  },
  "language_info": {
   "codemirror_mode": {
    "name": "ipython",
    "version": 3
   },
   "file_extension": ".py",
   "mimetype": "text/x-python",
   "name": "python",
   "nbconvert_exporter": "python",
   "pygments_lexer": "ipython3",
   "version": "3.9.18"
  }
 },
 "nbformat": 4,
 "nbformat_minor": 5
}
