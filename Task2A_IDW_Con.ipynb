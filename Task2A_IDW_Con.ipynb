{
 "cells": [
  {
   "cell_type": "markdown",
   "id": "0cec05b4",
   "metadata": {},
   "source": [
    "# Cross Validation for IDW Interpolation \n",
    "## Task 2A (IDW for continuous data only)\n",
    "\n",
    "This document includes Python codes that conduct cross validation (CV) for Inverse Distance Weighting (IDW) Interpolation on water quality parameters, including 6 water quality parameters in arcpy environment:\n",
    "- Dissolved oxygen (DO_mgl)\n",
    "- Salinity (Sal_ppt)\n",
    "- Turbidity (Turb_ntu)\n",
    "- Temperature (T_c)\n",
    "- Secchi (Secc_m)\n",
    "- Total Nitrogen (TN_mgl) \n",
    "\n",
    "The analysis is conducted in the separate water bodies:\n",
    "- Guana Tolomato Matanzas (GTM)\n",
    "- Estero Bay (EB)\n",
    "- Charlotte Harbor (CH)\n",
    "- Biscayne Bay (BB)\n",
    "- Big Bend Seagrasses (BBS)\n",
    "\n",
    "**Tasks:**  \n",
    "\n",
    "- **Task 2A Calculate the RMSE and Mean Error (ME) for IDW results using both continuous and discrete data**\n",
    "\n",
    "- Task 2B Calculate the RMSE and Mean Error (ME) for IDW results using continuous data.\n",
    "\n",
    "Time periods one year before and after storm event for Task 2A tests (seasons).\n",
    "<br>\n",
    "<div style=\"text-align: left;\">\n",
    "    <img src=\"misc/TimePeriods.png\" style=\"display: block; margin-left: 0; margin-right: auto; width: 600px;\"/>\n",
    "</div>\n",
    "\n",
    "Summary of IDK and RK Accuracy Assessments.\n",
    "<br>\n",
    "<div style=\"text-align: left;\">\n",
    "    <img src=\"misc/Table3.png\" style=\"display: block; margin-left: 0; margin-right: auto; width: 600px;\"/>\n",
    "</div>\n",
    "\n",
    "**Contents:**\n",
    "* [1. Data Preprocess](#reg_preprocessing)\n",
    "    * [1.1 Subsetting Dataset](#reg_subset)\n",
    "    * [1.2 Preview Dataset](#reg_preview)\n",
    "    * [1.3 Fill Unique ID](#reg_id)\n",
    "* [2. Create Shapefile](#reg_create_shp)\n",
    "* [3. Cross Validation for IDW](#reg_cv_idw)\n",
    "\n",
    "# 1. Loading packages"
   ]
  },
  {
   "cell_type": "code",
   "execution_count": 2,
   "id": "d91541e3",
   "metadata": {},
   "outputs": [],
   "source": [
    "import pandas as pd\n",
    "import numpy as np\n",
    "import arcpy\n",
    "from arcpy.sa import *\n",
    "import os\n",
    "import math\n",
    "\n",
    "import importlib\n",
    "import sys\n",
    "# path = r'C:/Users/cong1/WQ/IDW/git/misc'\n",
    "path = r'E:\\Projects\\SEACAR_WQ_2024\\git\\misc'\n",
    "\n",
    "sys.path.insert(0, path)\n",
    "import idw_rk\n",
    "importlib.reload(idw_rk)\n",
    "\n",
    "import pyproj\n",
    "\n",
    "# define scratch folder to avoid overwritting from parallel threats\n",
    "arcpy.env.scratchWorkspace = r\"E:\\Projects\\SEACAR_WQ_2024\\scratch/IDW_all\""
   ]
  },
  {
   "cell_type": "markdown",
   "id": "e01c6b56",
   "metadata": {},
   "source": [
    "# 1. Data Preprocessing <a class=\"anchor\" id=\"reg_preprocessing\"></a>\n",
    "\n",
    "## 1.1 Load csv files"
   ]
  },
  {
   "cell_type": "code",
   "execution_count": null,
   "id": "4c61f8c6",
   "metadata": {},
   "outputs": [],
   "source": [
    "gis_path = r'E:\\Projects\\SEACAR_WQ_2024/GIS_Data/'\n",
    "dfCon = pd.read_csv(gis_path + 'OEAT_Continuous_WQ-2024-Jan-16.csv', low_memory=False)"
   ]
  },
  {
   "cell_type": "markdown",
   "id": "76ee0f25",
   "metadata": {},
   "source": [
    "## 1.2 Subsetting Data <a class=\"anchor\" id=\"reg_subset\"></a>\n",
    "\n",
    "### Selecting data from 9 am to 17 pm (daytime)"
   ]
  },
  {
   "cell_type": "code",
   "execution_count": null,
   "id": "14b92e5f",
   "metadata": {},
   "outputs": [],
   "source": [
    "dfCon['SampleDate'] = pd.to_datetime(dfCon['SampleDate'], format='%b %d %Y %I:%M%p')"
   ]
  },
  {
   "cell_type": "code",
   "execution_count": null,
   "id": "30c8bf75",
   "metadata": {},
   "outputs": [],
   "source": [
    "# Include date from 9:00 am to 17:00 pm\n",
    "start_time = '09:00'\n",
    "end_time = '17:00'\n",
    "\n",
    "dfConTime = dfCon[dfCon['SampleDate'].dt.time.between(pd.to_datetime(start_time).time(), pd.to_datetime(end_time).time())]\n",
    "dfConTime.head()"
   ]
  },
  {
   "cell_type": "markdown",
   "id": "ac8c44ad",
   "metadata": {},
   "source": [
    "## 1.3 Calculating average values at unique observation points"
   ]
  },
  {
   "cell_type": "code",
   "execution_count": null,
   "id": "769327db",
   "metadata": {},
   "outputs": [],
   "source": [
    "dfCon_Mean = dfConTime.groupby(['WaterBody','ParameterName','ParameterUnits', 'Year','Season','Latitude_DD','Longitude_DD','WbodyAcronym'])[\"ResultValue\"].agg(\"mean\").reset_index()\n",
    "dfCon_Mean"
   ]
  },
  {
   "cell_type": "markdown",
   "id": "9398a3e1",
   "metadata": {},
   "source": [
    "## 1.4 Convert coordinate system to EPSG: 3086"
   ]
  },
  {
   "cell_type": "code",
   "execution_count": null,
   "id": "863709f0",
   "metadata": {},
   "outputs": [],
   "source": [
    "# Define the EPSG codes for source (EPSG:4326) and target (EPSG:3086) coordinate systems\n",
    "source_epsg = 'EPSG:4326'\n",
    "target_epsg = 'EPSG:3086'\n",
    "\n",
    "# Create a PyProj Transformer for the conversion\n",
    "transformer = pyproj.Transformer.from_crs(source_epsg, target_epsg, always_xy=True)\n",
    "\n",
    "# Define a function to apply the transformation to each row of the DataFrame\n",
    "def transform_coordinates(row):\n",
    "    x, y = transformer.transform(row['Longitude_DD'], row['Latitude_DD'])\n",
    "    return pd.Series({'x': x, 'y': y})\n",
    "\n",
    "# Apply the transformation function to the DataFrame and create new columns for the converted coordinates\n",
    "dfCon_Mean[['x', 'y']] = dfCon_Mean.apply(transform_coordinates, axis=1)"
   ]
  },
  {
   "cell_type": "markdown",
   "id": "93c74f88",
   "metadata": {},
   "source": [
    "## 2. Prepare for batch interpolation\n",
    "### 2.1 Preset abbreviation for waterbody and parameter name"
   ]
  },
  {
   "cell_type": "code",
   "execution_count": null,
   "id": "d58a1c29",
   "metadata": {},
   "outputs": [],
   "source": [
    "area_shortnames = {\n",
    "    'Guana Tolomato Matanzas': 'GTM',\n",
    "    'Estero Bay': 'EB',\n",
    "    'Charlotte Harbor': 'CH',\n",
    "    'Biscayne Bay': 'BB',\n",
    "    'Big Bend Seagrasses':'BBS'\n",
    "}\n",
    "\n",
    "param_shortnames = {\n",
    "    'Salinity': 'Sal_ppt',\n",
    "    'Total Nitrogen': 'TN_mgl',\n",
    "    'Dissolved Oxygen': 'DO_mgl',\n",
    "    'Turbidity':'Turb_ntu',\n",
    "    'Secchi Depth':'Secc_m',\n",
    "    'Water Temperature':'T_c'\n",
    "}"
   ]
  },
  {
   "cell_type": "markdown",
   "id": "887f0a4b",
   "metadata": {},
   "source": [
    "### 2.2 Define the barrier files"
   ]
  },
  {
   "cell_type": "code",
   "execution_count": null,
   "id": "10945835",
   "metadata": {},
   "outputs": [],
   "source": [
    "barrier_folder = os.path.join(gis_path, 'Barriers')\n",
    "barrier_folder\n",
    "\n",
    "barriers = []\n",
    "for file in os.listdir(barrier_folder):\n",
    "    if file.endswith(\".shp\"):\n",
    "        barriers.append(os.path.join(barrier_folder, file))\n",
    "\n",
    "for barrier in barriers:\n",
    "    print(barrier)"
   ]
  },
  {
   "cell_type": "markdown",
   "id": "fbb0f837",
   "metadata": {},
   "source": [
    "### 2.3 Define waterbody boundary for spatial extent and masking"
   ]
  },
  {
   "cell_type": "code",
   "execution_count": null,
   "id": "49543d8f",
   "metadata": {},
   "outputs": [],
   "source": [
    "waterbody_extent = os.path.join(gis_path, 'OEAT_Waterbody_Boundaries', 'OEAT_Waterbody_Boundary.shp')\n",
    "\n",
    "unique_waterbodies = []\n",
    "with arcpy.da.SearchCursor(waterbody_extent, ['WaterbodyA']) as cursor:\n",
    "    for row in cursor:\n",
    "        unique_waterbodies.append(row[0])\n",
    "\n",
    "print(\"Unique Waterbodies:\", unique_waterbodies)"
   ]
  },
  {
   "cell_type": "markdown",
   "id": "68e5c77f",
   "metadata": {},
   "source": [
    "### 2.4 Load the table of study periods,  parameters, and seasons"
   ]
  },
  {
   "cell_type": "code",
   "execution_count": null,
   "id": "3d0a0cf4",
   "metadata": {},
   "outputs": [],
   "source": [
    "seasons_con = pd.read_csv(gis_path + 'Seasons_con.csv', low_memory=False)"
   ]
  },
  {
   "cell_type": "markdown",
   "id": "38f40e2b",
   "metadata": {},
   "source": [
    "### 2.5 Define output folders### Define output folders"
   ]
  },
  {
   "cell_type": "code",
   "execution_count": null,
   "id": "e8193ef2",
   "metadata": {},
   "outputs": [],
   "source": [
    "shpCon_folder = gis_path + r\"shapefiles_Con\"\n",
    "idwCon_folder = gis_path + r\"idw_Con\"\n",
    "\n",
    "# Preview data\n",
    "dfCon_Mean"
   ]
  },
  {
   "cell_type": "markdown",
   "id": "46f31aa4",
   "metadata": {},
   "source": [
    "## 2.6 Fill NaN RowID with unique ID, IDW function needs unique ID <a class=\"anchor\" id=\"reg_id\"></a>"
   ]
  },
  {
   "cell_type": "code",
   "execution_count": null,
   "id": "b4dd73bf",
   "metadata": {},
   "outputs": [],
   "source": [
    "idw_rk.fill_nan_rowids(dfCon_Mean, 'RowID')\n",
    "dfCon_Mean"
   ]
  },
  {
   "cell_type": "markdown",
   "id": "208fa1a4",
   "metadata": {},
   "source": [
    "# 3. Create Shapefiles <a class=\"anchor\" id=\"reg_create_shp\"></a># 2. Create Shapefile <a class=\"anchor\" id=\"reg_create_shp\"></a>"
   ]
  },
  {
   "cell_type": "code",
   "execution_count": null,
   "id": "2db25f4c",
   "metadata": {},
   "outputs": [],
   "source": [
    "# Empty the shapefile folder\n",
    "idw_rk.delete_all_files(shpCon_folder)\n",
    "\n",
    "# Merge interested with latitude and longitude columns\n",
    "seasons_con_coord = idw_rk.merge_with_lat_long(seasons_con, dfCon_Mean)\n",
    "seasons_con_coord"
   ]
  },
  {
   "cell_type": "code",
   "execution_count": null,
   "id": "f0e854cc",
   "metadata": {
    "scrolled": true
   },
   "outputs": [],
   "source": [
    "idw_rk.create_shp_season(seasons_con_coord, shpCon_folder)"
   ]
  },
  {
   "cell_type": "markdown",
   "id": "cdf247be",
   "metadata": {},
   "source": [
    "# 3. Cross Validation for IDW <a class=\"anchor\" id=\"reg_cv_idw\"></a>"
   ]
  },
  {
   "cell_type": "code",
   "execution_count": null,
   "id": "859890d0",
   "metadata": {},
   "outputs": [],
   "source": [
    "# Empty the shapefile folder\n",
    "idw_rk.delete_all_files(idwCon_folder)"
   ]
  },
  {
   "cell_type": "code",
   "execution_count": null,
   "id": "cdbe2362",
   "metadata": {},
   "outputs": [],
   "source": [
    "# Select a section of table to process\n",
    "seasons_slct = seasons_all.iloc[122:]"
   ]
  },
  {
   "cell_type": "code",
   "execution_count": null,
   "id": "a7eb8a3d",
   "metadata": {
    "scrolled": false
   },
   "outputs": [],
   "source": [
    "# If the number of data points is less than 3，skipping calculate IDW\n",
    "idw_rk.idw_interpolation(seasons_con, shpCon_folder, idwCon_folder, waterbody_extent, barrier_folder)"
   ]
  }
 ],
 "metadata": {
  "kernelspec": {
   "display_name": "Python 3 (ipykernel)",
   "language": "python",
   "name": "python3"
  },
  "language_info": {
   "codemirror_mode": {
    "name": "ipython",
    "version": 3
   },
   "file_extension": ".py",
   "mimetype": "text/x-python",
   "name": "python",
   "nbconvert_exporter": "python",
   "pygments_lexer": "ipython3",
   "version": "3.9.18"
  }
 },
 "nbformat": 4,
 "nbformat_minor": 5
}
