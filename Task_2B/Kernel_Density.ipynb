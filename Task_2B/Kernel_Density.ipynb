{
 "cells": [
  {
   "cell_type": "code",
   "execution_count": 1,
   "id": "b95660f7",
   "metadata": {},
   "outputs": [],
   "source": [
    "import pandas as pd\n",
    "import glob\n",
    "import warnings\n",
    "import arcpy\n",
    "warnings.filterwarnings('ignore')\n",
    "from arcpy import env\n",
    "from arcpy.sa import *\n",
    "arcpy.env.overwriteOutput = True\n",
    "import os\n",
    "import geopandas as gpd\n",
    "import rasterio\n",
    "import rasterio.mask\n",
    "import matplotlib.pyplot as plt\n",
    "import numpy as np\n",
    "from matplotlib.colors import TwoSlopeNorm, LinearSegmentedColormap"
   ]
  },
  {
   "cell_type": "code",
   "execution_count": 2,
   "id": "e9418d32",
   "metadata": {},
   "outputs": [],
   "source": [
    "gis_path = r'F:/SEACAR_WQ_2024/GIS_Data/'"
   ]
  },
  {
   "cell_type": "code",
   "execution_count": 3,
   "id": "82d95c0b",
   "metadata": {},
   "outputs": [],
   "source": [
    "dfweek_diff = pd.read_csv(gis_path + 'week_difference.csv', low_memory=False)\n",
    "dfweek_diff_drop = dfweek_diff.dropna(subset=[\"ConValue\"]).reset_index(drop=True)\n",
    "dfweek_diff_group = dfweek_diff_drop.groupby([\"WaterBody\",\"ParameterName\",\"Latitude_DD\",\"Longitude_DD\",\n",
    "                                              \"x\",\"y\",\"WbodyAcronym\",\"ParaAcronym\"]).agg({\"ResultValue\":\"mean\",\"ConValue\":\"mean\"}).reset_index()\n",
    "dfweek_diff_group[\"Difference\"] = dfweek_diff_group[\"ConValue\"] - dfweek_diff_group[\"ResultValue\"]\n",
    "wb_list   = list(dfweek_diff_group.WbodyAcronym.unique())\n",
    "para_list = list(dfweek_diff_group.ParaAcronym.unique())"
   ]
  },
  {
   "cell_type": "code",
   "execution_count": 4,
   "id": "8986e74e",
   "metadata": {},
   "outputs": [],
   "source": [
    "def kernel_density(workspace,weekormonth,df,search_radius):\n",
    "    for wb in wb_list:\n",
    "        for para in para_list:\n",
    "            env.workspace = workspace\n",
    "            name = str(wb)+\"_\"+str(para)\n",
    "            weekormonth = str(weekormonth)\n",
    "            search_radius = int(search_radius)\n",
    "            df_use = df[(df[\"WbodyAcronym\"]==str(wb))&(df[\"ParaAcronym\"]==str(para))]\n",
    "            df_use.to_csv(env.workspace+f\"/{weekormonth}/{name}.csv\")\n",
    "            arcpy.management.XYTableToPoint(env.workspace+f\"/{weekormonth}/{name}.csv\", env.workspace+f\"/{weekormonth}/{name}.shp\",\n",
    "                                \"x\", \"y\", \"Difference\",arcpy.SpatialReference(3086))    \n",
    "            print(name,arcpy.management.GetCount(env.workspace+f\"/{weekormonth}/{name}.shp\"))\n",
    "            outKDens = KernelDensity(in_features=env.workspace+f\"/{weekormonth}/{name}.shp\", population_field=\"Difference\",search_radius=search_radius)\n",
    "            output_tif = env.workspace + f\"/{weekormonth}/{name}_kd.tif\"\n",
    "            outKDens.save(output_tif)"
   ]
  },
  {
   "cell_type": "code",
   "execution_count": 5,
   "id": "f605c6b5",
   "metadata": {},
   "outputs": [
    {
     "name": "stdout",
     "output_type": "stream",
     "text": [
      "BB_DO_mgl 45\n",
      "BB_Sal_ppt 30\n",
      "BB_Turb_ntu 30\n",
      "BB_T_c 47\n",
      "CH_DO_mgl 388\n",
      "CH_Sal_ppt 442\n",
      "CH_Turb_ntu 37\n",
      "CH_T_c 467\n",
      "EB_DO_mgl 92\n",
      "EB_Sal_ppt 19\n",
      "EB_Turb_ntu 60\n",
      "EB_T_c 104\n",
      "GTM_DO_mgl 72\n",
      "GTM_Sal_ppt 69\n",
      "GTM_Turb_ntu 6\n",
      "GTM_T_c 69\n"
     ]
    }
   ],
   "source": [
    "kernel_density(gis_path+\"temp\",\"week\",dfweek_diff_group,5000)"
   ]
  },
  {
   "cell_type": "code",
   "execution_count": 6,
   "id": "66ea5acb",
   "metadata": {},
   "outputs": [],
   "source": [
    "dfmonth_diff = pd.read_csv(gis_path + 'month_difference.csv', low_memory=False)\n",
    "dfmonth_diff_drop = dfmonth_diff.dropna(subset=[\"ConValue\"]).reset_index(drop=True)\n",
    "dfmonth_diff_group = dfmonth_diff_drop.groupby([\"WaterBody\",\"ParameterName\",\"Latitude_DD\",\"Longitude_DD\",\n",
    "                                                \"x\",\"y\",\"WbodyAcronym\",\"ParaAcronym\"]).agg({\"ResultValue\":\"mean\",\"ConValue\":\"mean\"}).reset_index()\n",
    "dfmonth_diff_group[\"Difference\"] = dfmonth_diff_group[\"ConValue\"] - dfmonth_diff_group[\"ResultValue\"]\n",
    "wb_list   = list(dfmonth_diff_group.WbodyAcronym.unique())\n",
    "para_list = list(dfmonth_diff_group.ParaAcronym.unique())"
   ]
  },
  {
   "cell_type": "code",
   "execution_count": 7,
   "id": "a7508ff6",
   "metadata": {},
   "outputs": [
    {
     "name": "stdout",
     "output_type": "stream",
     "text": [
      "BB_DO_mgl 45\n",
      "BB_Sal_ppt 30\n",
      "BB_Turb_ntu 30\n",
      "BB_T_c 47\n",
      "CH_DO_mgl 303\n",
      "CH_Sal_ppt 428\n",
      "CH_Turb_ntu 29\n",
      "CH_T_c 450\n",
      "EB_DO_mgl 70\n",
      "EB_Sal_ppt 13\n",
      "EB_Turb_ntu 32\n",
      "EB_T_c 72\n",
      "GTM_DO_mgl 70\n",
      "GTM_Sal_ppt 67\n",
      "GTM_Turb_ntu 5\n",
      "GTM_T_c 67\n"
     ]
    }
   ],
   "source": [
    "kernel_density(gis_path+\"temp\",\"month\",dfmonth_diff_group,5000)"
   ]
  }
 ],
 "metadata": {
  "kernelspec": {
   "display_name": "Python 3 (ipykernel)",
   "language": "python",
   "name": "python3"
  },
  "language_info": {
   "codemirror_mode": {
    "name": "ipython",
    "version": 3
   },
   "file_extension": ".py",
   "mimetype": "text/x-python",
   "name": "python",
   "nbconvert_exporter": "python",
   "pygments_lexer": "ipython3",
   "version": "3.11.8"
  }
 },
 "nbformat": 4,
 "nbformat_minor": 5
}
