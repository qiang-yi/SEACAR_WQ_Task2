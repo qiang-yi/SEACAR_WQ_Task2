{
 "cells": [
  {
   "cell_type": "markdown",
   "id": "a1181c8f",
   "metadata": {},
   "source": [
    "# Cross Validation for IDW & RK Interpolation \n",
    "## Task 2 (continuous & discrete) for four seasons\n",
    "\n",
    "This document includes Python codes that conduct cross validation (CV) for Inverse Distance Weighting (IDW) Interpolation and RK on water quality parameters, including 6 water quality parameters in arcpy environment:\n",
    "- Dissolved oxygen (DO_mgl)\n",
    "- Salinity (Sal_ppt)\n",
    "- Turbidity (Turb_ntu)\n",
    "- Temperature (T_c)\n",
    "- Secchi (Secc_m)\n",
    "- Total Nitrogen (TN_mgl) \n",
    "\n",
    "The analysis is conducted in the separate water bodies:\n",
    "- Guana Tolomato Matanzas (GTM)\n",
    "- Estero Bay (EB)\n",
    "- Charlotte Harbor (CH)\n",
    "- Biscayne Bay (BB)\n",
    "- Big Bend Seagrasses (BBS)\n",
    "\n",
    "**Tasks:**  \n",
    "\n",
    "**Selecting maps in the four seasons (1 year) centered around the hurricane events **\n",
    "\n",
    "\n",
    "<br>\n",
    "<div style=\"text-align: left;\">\n",
    "    <img src=\"../misc/FourSeasons.png\" style=\"display: block; margin-left: 0; margin-right: auto; width: 900px;\"/>\n",
    "</div>\n",
    "\n",
    "\n"
   ]
  },
  {
   "cell_type": "markdown",
   "id": "51dae898",
   "metadata": {},
   "source": [
    "## 1. Loading packages"
   ]
  },
  {
   "cell_type": "code",
   "execution_count": 1,
   "id": "4e403831",
   "metadata": {},
   "outputs": [],
   "source": [
    "import os\n",
    "import shutil\n",
    "import re"
   ]
  },
  {
   "cell_type": "markdown",
   "id": "e01c6b56",
   "metadata": {},
   "source": [
    "## 2. Define the folder paths and strings in file names"
   ]
  },
  {
   "cell_type": "code",
   "execution_count": 7,
   "id": "6c8ed7e3",
   "metadata": {},
   "outputs": [],
   "source": [
    "# Define the folder paths\n",
    "source_folder = r'E:\\Projects\\SEACAR_WQ_2024\\GIS_Data\\raster_output\\idw_All/'\n",
    "destination_folder = source_folder + r'1-year'\n",
    "\n",
    "# Define the three strings you are looking for\n",
    "strings_to_search = ['CH', '2017']"
   ]
  },
  {
   "cell_type": "markdown",
   "id": "292b30de",
   "metadata": {},
   "source": [
    "## 3 Subsetting Data <a class=\"anchor\" id=\"reg_subset\"></a>"
   ]
  },
  {
   "cell_type": "code",
   "execution_count": 8,
   "id": "d49510f2",
   "metadata": {},
   "outputs": [
    {
     "ename": "UnicodeDecodeError",
     "evalue": "'charmap' codec can't decode byte 0x9d in position 13739: character maps to <undefined>",
     "output_type": "error",
     "traceback": [
      "\u001b[1;31m---------------------------------------------------------------------------\u001b[0m",
      "\u001b[1;31mUnicodeDecodeError\u001b[0m                        Traceback (most recent call last)",
      "\u001b[1;32m~\\AppData\\Local\\Temp\\ipykernel_174752\\1886424500.py\u001b[0m in \u001b[0;36m<cell line: 2>\u001b[1;34m()\u001b[0m\n\u001b[0;32m      7\u001b[0m         \u001b[1;31m# Read the file content\u001b[0m\u001b[1;33m\u001b[0m\u001b[1;33m\u001b[0m\u001b[0m\n\u001b[0;32m      8\u001b[0m         \u001b[1;32mwith\u001b[0m \u001b[0mopen\u001b[0m\u001b[1;33m(\u001b[0m\u001b[0mfile_path\u001b[0m\u001b[1;33m,\u001b[0m \u001b[1;34m'r'\u001b[0m\u001b[1;33m)\u001b[0m \u001b[1;32mas\u001b[0m \u001b[0mfile\u001b[0m\u001b[1;33m:\u001b[0m\u001b[1;33m\u001b[0m\u001b[1;33m\u001b[0m\u001b[0m\n\u001b[1;32m----> 9\u001b[1;33m             \u001b[0mcontent\u001b[0m \u001b[1;33m=\u001b[0m \u001b[0mfile\u001b[0m\u001b[1;33m.\u001b[0m\u001b[0mread\u001b[0m\u001b[1;33m(\u001b[0m\u001b[1;33m)\u001b[0m\u001b[1;33m\u001b[0m\u001b[1;33m\u001b[0m\u001b[0m\n\u001b[0m\u001b[0;32m     10\u001b[0m \u001b[1;33m\u001b[0m\u001b[0m\n\u001b[0;32m     11\u001b[0m             \u001b[1;31m# Check if all three strings are in the file content\u001b[0m\u001b[1;33m\u001b[0m\u001b[1;33m\u001b[0m\u001b[0m\n",
      "\u001b[1;32m~\\AppData\\Local\\ESRI\\conda\\envs\\geo3\\lib\\encodings\\cp1252.py\u001b[0m in \u001b[0;36mdecode\u001b[1;34m(self, input, final)\u001b[0m\n\u001b[0;32m     21\u001b[0m \u001b[1;32mclass\u001b[0m \u001b[0mIncrementalDecoder\u001b[0m\u001b[1;33m(\u001b[0m\u001b[0mcodecs\u001b[0m\u001b[1;33m.\u001b[0m\u001b[0mIncrementalDecoder\u001b[0m\u001b[1;33m)\u001b[0m\u001b[1;33m:\u001b[0m\u001b[1;33m\u001b[0m\u001b[1;33m\u001b[0m\u001b[0m\n\u001b[0;32m     22\u001b[0m     \u001b[1;32mdef\u001b[0m \u001b[0mdecode\u001b[0m\u001b[1;33m(\u001b[0m\u001b[0mself\u001b[0m\u001b[1;33m,\u001b[0m \u001b[0minput\u001b[0m\u001b[1;33m,\u001b[0m \u001b[0mfinal\u001b[0m\u001b[1;33m=\u001b[0m\u001b[1;32mFalse\u001b[0m\u001b[1;33m)\u001b[0m\u001b[1;33m:\u001b[0m\u001b[1;33m\u001b[0m\u001b[1;33m\u001b[0m\u001b[0m\n\u001b[1;32m---> 23\u001b[1;33m         \u001b[1;32mreturn\u001b[0m \u001b[0mcodecs\u001b[0m\u001b[1;33m.\u001b[0m\u001b[0mcharmap_decode\u001b[0m\u001b[1;33m(\u001b[0m\u001b[0minput\u001b[0m\u001b[1;33m,\u001b[0m\u001b[0mself\u001b[0m\u001b[1;33m.\u001b[0m\u001b[0merrors\u001b[0m\u001b[1;33m,\u001b[0m\u001b[0mdecoding_table\u001b[0m\u001b[1;33m)\u001b[0m\u001b[1;33m[\u001b[0m\u001b[1;36m0\u001b[0m\u001b[1;33m]\u001b[0m\u001b[1;33m\u001b[0m\u001b[1;33m\u001b[0m\u001b[0m\n\u001b[0m\u001b[0;32m     24\u001b[0m \u001b[1;33m\u001b[0m\u001b[0m\n\u001b[0;32m     25\u001b[0m \u001b[1;32mclass\u001b[0m \u001b[0mStreamWriter\u001b[0m\u001b[1;33m(\u001b[0m\u001b[0mCodec\u001b[0m\u001b[1;33m,\u001b[0m\u001b[0mcodecs\u001b[0m\u001b[1;33m.\u001b[0m\u001b[0mStreamWriter\u001b[0m\u001b[1;33m)\u001b[0m\u001b[1;33m:\u001b[0m\u001b[1;33m\u001b[0m\u001b[1;33m\u001b[0m\u001b[0m\n",
      "\u001b[1;31mUnicodeDecodeError\u001b[0m: 'charmap' codec can't decode byte 0x9d in position 13739: character maps to <undefined>"
     ]
    }
   ],
   "source": [
    "# Iterate over all files in the source folder\n",
    "for filename in os.listdir(source_folder):\n",
    "    file_path = os.path.join(source_folder, filename)\n",
    "    \n",
    "    # Check if it's a file\n",
    "    if os.path.isfile(file_path):\n",
    "        # Read the file content\n",
    "        with open(file_path, 'r') as file:\n",
    "            content = file.read()\n",
    "            \n",
    "            # Check if all three strings are in the file content\n",
    "            if all(s in content for s in strings_to_search):\n",
    "                # Copy the file to the destination folder\n",
    "                shutil.copy(file_path, destination_folder)\n",
    "\n",
    "print(\"Files containing the specified strings have been copied.\")"
   ]
  },
  {
   "cell_type": "code",
   "execution_count": null,
   "id": "522dd168",
   "metadata": {},
   "outputs": [],
   "source": []
  }
 ],
 "metadata": {
  "kernelspec": {
   "display_name": "Python 3 (ipykernel)",
   "language": "python",
   "name": "python3"
  },
  "language_info": {
   "codemirror_mode": {
    "name": "ipython",
    "version": 3
   },
   "file_extension": ".py",
   "mimetype": "text/x-python",
   "name": "python",
   "nbconvert_exporter": "python",
   "pygments_lexer": "ipython3",
   "version": "3.9.18"
  }
 },
 "nbformat": 4,
 "nbformat_minor": 5
}
