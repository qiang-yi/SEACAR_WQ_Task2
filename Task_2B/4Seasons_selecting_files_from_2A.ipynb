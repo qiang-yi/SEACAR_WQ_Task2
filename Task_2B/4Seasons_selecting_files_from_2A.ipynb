{
 "cells": [
  {
   "cell_type": "markdown",
   "id": "a1181c8f",
   "metadata": {},
   "source": [
    "# Cross Validation for IDW & RK Interpolation \n",
    "## Task 2 (continuous & discrete) for four seasons\n",
    "\n",
    "This document includes Python codes that conduct cross validation (CV) for Inverse Distance Weighting (IDW) Interpolation and RK on water quality parameters, including 6 water quality parameters in arcpy environment:\n",
    "- Dissolved oxygen (DO_mgl)\n",
    "- Salinity (Sal_ppt)\n",
    "- Turbidity (Turb_ntu)\n",
    "- Temperature (T_c)\n",
    "- Secchi (Secc_m)\n",
    "- Total Nitrogen (TN_mgl) \n",
    "\n",
    "The analysis is conducted in the separate water bodies:\n",
    "- Guana Tolomato Matanzas (GTM)\n",
    "- Estero Bay (EB)\n",
    "- Charlotte Harbor (CH)\n",
    "- Biscayne Bay (BB)\n",
    "- Big Bend Seagrasses (BBS)\n",
    "\n",
    "**Tasks:**  \n",
    "\n",
    "**Selecting maps in the four seasons (1 year) centered around the hurricane events **\n",
    "\n",
    "\n",
    "<br>\n",
    "<div style=\"text-align: left;\">\n",
    "    <img src=\"../misc/FourSeasons.png\" style=\"display: block; margin-left: 0; margin-right: auto; width: 900px;\"/>\n",
    "</div>\n",
    "\n",
    "\n"
   ]
  },
  {
   "cell_type": "markdown",
   "id": "51dae898",
   "metadata": {},
   "source": [
    "## 1. Loading packages"
   ]
  },
  {
   "cell_type": "code",
   "execution_count": 15,
   "id": "4e403831",
   "metadata": {},
   "outputs": [],
   "source": [
    "import os\n",
    "import shutil\n",
    "import re\n",
    "import pandas as pd"
   ]
  },
  {
   "cell_type": "markdown",
   "id": "e01c6b56",
   "metadata": {},
   "source": [
    "## 2. Define the folder paths and strings in file names"
   ]
  },
  {
   "cell_type": "code",
   "execution_count": 35,
   "id": "6c8ed7e3",
   "metadata": {},
   "outputs": [],
   "source": [
    "# Define the folder paths\n",
    "source_folder = r'E:\\Projects\\SEACAR_WQ_2024\\GIS_Data\\raster_output\\idw_All/'\n",
    "destination_folder = source_folder + r'1-year'\n",
    "\n",
    "# Define the three strings you are looking for\n",
    "strings_to_search = ['BBS', '2021']"
   ]
  },
  {
   "cell_type": "markdown",
   "id": "292b30de",
   "metadata": {},
   "source": [
    "## 3. Copy 4 seasons in the year to a new folder <a class=\"anchor\" id=\"reg_subset\"></a>"
   ]
  },
  {
   "cell_type": "code",
   "execution_count": 36,
   "id": "d49510f2",
   "metadata": {},
   "outputs": [
    {
     "name": "stdout",
     "output_type": "stream",
     "text": [
      "Files whose names contain the specified strings have been copied.\n"
     ]
    }
   ],
   "source": [
    "# Ensure the destination folder exists\n",
    "os.makedirs(destination_folder, exist_ok=True)\n",
    "\n",
    "# Iterate over all files in the source folder\n",
    "for filename in os.listdir(source_folder):\n",
    "    file_path = os.path.join(source_folder, filename)\n",
    "    \n",
    "    # Check if it's a file and if the filename contains all three strings\n",
    "    if os.path.isfile(file_path) and all(s in filename for s in strings_to_search):\n",
    "        # Copy the file to the destination folder\n",
    "        shutil.copy(file_path, destination_folder)\n",
    "\n",
    "print(\"Files whose names contain the specified strings have been copied.\")"
   ]
  },
  {
   "cell_type": "markdown",
   "id": "0a3d3341",
   "metadata": {},
   "source": [
    "## 4. Select result of the 4 seasons in a year"
   ]
  },
  {
   "cell_type": "code",
   "execution_count": 24,
   "id": "24c402b4",
   "metadata": {},
   "outputs": [],
   "source": [
    "result_folder = r'E:\\Projects\\SEACAR_WQ_2024\\result\\result_v3/'\n",
    "df = pd.read_csv(result_folder + 'all_results.csv').drop(columns=['Unnamed: 0'])"
   ]
  },
  {
   "cell_type": "code",
   "execution_count": 37,
   "id": "02097c7a",
   "metadata": {},
   "outputs": [
    {
     "data": {
      "text/plain": [
       "array(['Guana Tolomato Matanzas', 'Estero Bay', 'Biscayne Bay',\n",
       "       'Big Bend Seagrasses', 'Charlotte Harbor'], dtype=object)"
      ]
     },
     "execution_count": 37,
     "metadata": {},
     "output_type": "execute_result"
    }
   ],
   "source": [
    "df['WaterBody'].unique()"
   ]
  },
  {
   "cell_type": "code",
   "execution_count": 40,
   "id": "6d0105d1",
   "metadata": {},
   "outputs": [],
   "source": [
    "df1 = df[((df['WaterBody'] == 'Charlotte Harbor') & (df['Year'] == 2017))|\n",
    "        ((df['WaterBody'] == 'Big Bend Seagrasses') & (df['Year'] == 2021))]"
   ]
  },
  {
   "cell_type": "code",
   "execution_count": 44,
   "id": "48b10a1b",
   "metadata": {
    "scrolled": false
   },
   "outputs": [],
   "source": [
    "df1.to_csv(result_folder + 'rk_idw_4s.csv')"
   ]
  }
 ],
 "metadata": {
  "kernelspec": {
   "display_name": "Python 3 (ipykernel)",
   "language": "python",
   "name": "python3"
  },
  "language_info": {
   "codemirror_mode": {
    "name": "ipython",
    "version": 3
   },
   "file_extension": ".py",
   "mimetype": "text/x-python",
   "name": "python",
   "nbconvert_exporter": "python",
   "pygments_lexer": "ipython3",
   "version": "3.9.18"
  }
 },
 "nbformat": 4,
 "nbformat_minor": 5
}
